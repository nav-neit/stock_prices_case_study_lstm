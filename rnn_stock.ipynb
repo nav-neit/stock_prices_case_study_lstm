{
 "cells": [
  {
   "cell_type": "code",
   "execution_count": 119,
   "metadata": {},
   "outputs": [],
   "source": [
    "import numpy as np\n",
    "import matplotlib.pyplot as plt\n",
    "import pandas as pd"
   ]
  },
  {
   "cell_type": "code",
   "execution_count": 120,
   "metadata": {},
   "outputs": [
    {
     "data": {
      "text/plain": [
       "(1258, 6)"
      ]
     },
     "execution_count": 120,
     "metadata": {},
     "output_type": "execute_result"
    }
   ],
   "source": [
    "df = pd.read_csv('Google_Stock_Price_Train.csv')\n",
    "training_set = df.iloc[:,1:2].values\n",
    "df.shape"
   ]
  },
  {
   "cell_type": "code",
   "execution_count": 121,
   "metadata": {},
   "outputs": [],
   "source": [
    "# feature scaling\n",
    "from sklearn.preprocessing import MinMaxScaler\n",
    "sc = MinMaxScaler(feature_range = (0,1))\n",
    "training_set_scaled = sc.fit_transform(training_set)"
   ]
  },
  {
   "cell_type": "code",
   "execution_count": 122,
   "metadata": {},
   "outputs": [],
   "source": [
    "# creating data with 60 timesteps\n",
    "X_train = []\n",
    "y_train = []\n",
    "# till 59 th time step we look at the stock open values that is our training data\n",
    "# our value at the 60 th step ie we are trying to predict is our y_train\n",
    "for i in range(60,1258):\n",
    "    X_train.append(training_set_scaled[i-60:i,0])\n",
    "    y_train.append(training_set_scaled[i,0])\n",
    "X_train,y_train = np.array(X_train),np.array(y_train)\n",
    "# reshaping\n",
    "X_train = np.reshape(X_train,(X_train.shape[0],X_train.shape[1],1))"
   ]
  },
  {
   "cell_type": "code",
   "execution_count": 123,
   "metadata": {},
   "outputs": [],
   "source": [
    "import tensorflow as tf"
   ]
  },
  {
   "cell_type": "code",
   "execution_count": 124,
   "metadata": {},
   "outputs": [],
   "source": [
    "#initialize the RNN\n",
    "RNN = tf.keras.models.Sequential()"
   ]
  },
  {
   "cell_type": "markdown",
   "metadata": {},
   "source": [
    "### Adding LSTM layers with some Dropout regularization"
   ]
  },
  {
   "cell_type": "code",
   "execution_count": 125,
   "metadata": {},
   "outputs": [],
   "source": [
    "# Adding first LSTM layer and dropout regularization\n",
    "RNN.add(tf.keras.layers.LSTM(units =50 , return_sequences= True, input_shape = (X_train.shape[1], 1)))\n",
    "RNN.add(tf.keras.layers.Dropout(0.2))"
   ]
  },
  {
   "cell_type": "code",
   "execution_count": 126,
   "metadata": {},
   "outputs": [],
   "source": [
    "# Adding second LSTM layer and dropout regularization\n",
    "RNN.add(tf.keras.layers.LSTM(units =50 , return_sequences= True))\n",
    "RNN.add(tf.keras.layers.Dropout(0.2))"
   ]
  },
  {
   "cell_type": "code",
   "execution_count": 127,
   "metadata": {},
   "outputs": [],
   "source": [
    "# Adding third LSTM layer and dropout regularization\n",
    "RNN.add(tf.keras.layers.LSTM(units =50 , return_sequences= True))\n",
    "RNN.add(tf.keras.layers.Dropout(0.2))"
   ]
  },
  {
   "cell_type": "code",
   "execution_count": 128,
   "metadata": {},
   "outputs": [],
   "source": [
    "# Adding fourth LSTM layer and dropout regularization\n",
    "RNN.add(tf.keras.layers.LSTM(units =50))\n",
    "RNN.add(tf.keras.layers.Dropout(0.2))"
   ]
  },
  {
   "cell_type": "code",
   "execution_count": 129,
   "metadata": {},
   "outputs": [],
   "source": [
    "# Adding the output dense layer\n",
    "RNN.add(tf.keras.layers.Dense(units =1))"
   ]
  },
  {
   "cell_type": "markdown",
   "metadata": {},
   "source": [
    "#### Compile the RNN"
   ]
  },
  {
   "cell_type": "code",
   "execution_count": 130,
   "metadata": {},
   "outputs": [],
   "source": [
    "RNN.compile(optimizer='adam',loss = 'mean_squared_error')"
   ]
  },
  {
   "cell_type": "markdown",
   "metadata": {},
   "source": [
    "#### Training the model"
   ]
  },
  {
   "cell_type": "code",
   "execution_count": 131,
   "metadata": {},
   "outputs": [
    {
     "name": "stdout",
     "output_type": "stream",
     "text": [
      "Epoch 1/100\n",
      "38/38 [==============================] - 16s 119ms/step - loss: 0.0460\n",
      "Epoch 2/100\n",
      "38/38 [==============================] - 5s 128ms/step - loss: 0.0062\n",
      "Epoch 3/100\n",
      "38/38 [==============================] - 4s 109ms/step - loss: 0.0058 1s - \n",
      "Epoch 4/100\n",
      "38/38 [==============================] - 5s 132ms/step - loss: 0.0049\n",
      "Epoch 5/100\n",
      "38/38 [==============================] - 5s 121ms/step - loss: 0.0055\n",
      "Epoch 6/100\n",
      "38/38 [==============================] - 4s 114ms/step - loss: 0.0054\n",
      "Epoch 7/100\n",
      "38/38 [==============================] - 5s 133ms/step - loss: 0.0046\n",
      "Epoch 8/100\n",
      "38/38 [==============================] - 4s 118ms/step - loss: 0.0041\n",
      "Epoch 9/100\n",
      "38/38 [==============================] - 5s 126ms/step - loss: 0.0043\n",
      "Epoch 10/100\n",
      "38/38 [==============================] - 4s 102ms/step - loss: 0.0041\n",
      "Epoch 11/100\n",
      "38/38 [==============================] - 4s 96ms/step - loss: 0.0040: 0s - loss: \n",
      "Epoch 12/100\n",
      "38/38 [==============================] - 4s 96ms/step - loss: 0.0042\n",
      "Epoch 13/100\n",
      "38/38 [==============================] - 3s 88ms/step - loss: 0.0044\n",
      "Epoch 14/100\n",
      "38/38 [==============================] - 3s 85ms/step - loss: 0.0041\n",
      "Epoch 15/100\n",
      "38/38 [==============================] - 3s 89ms/step - loss: 0.0041\n",
      "Epoch 16/100\n",
      "38/38 [==============================] - 4s 98ms/step - loss: 0.0039\n",
      "Epoch 17/100\n",
      "38/38 [==============================] - 3s 85ms/step - loss: 0.0039\n",
      "Epoch 18/100\n",
      "38/38 [==============================] - 3s 85ms/step - loss: 0.0040\n",
      "Epoch 19/100\n",
      "38/38 [==============================] - 3s 85ms/step - loss: 0.0034\n",
      "Epoch 20/100\n",
      "38/38 [==============================] - 3s 84ms/step - loss: 0.0040\n",
      "Epoch 21/100\n",
      "38/38 [==============================] - 3s 88ms/step - loss: 0.0033\n",
      "Epoch 22/100\n",
      "38/38 [==============================] - 3s 85ms/step - loss: 0.0033\n",
      "Epoch 23/100\n",
      "38/38 [==============================] - 3s 85ms/step - loss: 0.0038\n",
      "Epoch 24/100\n",
      "38/38 [==============================] - 3s 85ms/step - loss: 0.0030\n",
      "Epoch 25/100\n",
      "38/38 [==============================] - 3s 84ms/step - loss: 0.0032\n",
      "Epoch 26/100\n",
      "38/38 [==============================] - 3s 85ms/step - loss: 0.0034\n",
      "Epoch 27/100\n",
      "38/38 [==============================] - 3s 86ms/step - loss: 0.0030\n",
      "Epoch 28/100\n",
      "38/38 [==============================] - 3s 84ms/step - loss: 0.0031\n",
      "Epoch 29/100\n",
      "38/38 [==============================] - 3s 85ms/step - loss: 0.0029\n",
      "Epoch 30/100\n",
      "38/38 [==============================] - 3s 85ms/step - loss: 0.0030\n",
      "Epoch 31/100\n",
      "38/38 [==============================] - 3s 88ms/step - loss: 0.0028\n",
      "Epoch 32/100\n",
      "38/38 [==============================] - 3s 89ms/step - loss: 0.0032\n",
      "Epoch 33/100\n",
      "38/38 [==============================] - 3s 84ms/step - loss: 0.0030\n",
      "Epoch 34/100\n",
      "38/38 [==============================] - 3s 84ms/step - loss: 0.0036\n",
      "Epoch 35/100\n",
      "38/38 [==============================] - 3s 85ms/step - loss: 0.0033\n",
      "Epoch 36/100\n",
      "38/38 [==============================] - 3s 84ms/step - loss: 0.0027\n",
      "Epoch 37/100\n",
      "38/38 [==============================] - 3s 84ms/step - loss: 0.0026\n",
      "Epoch 38/100\n",
      "38/38 [==============================] - 3s 84ms/step - loss: 0.0028\n",
      "Epoch 39/100\n",
      "38/38 [==============================] - 3s 87ms/step - loss: 0.0026\n",
      "Epoch 40/100\n",
      "38/38 [==============================] - 3s 84ms/step - loss: 0.0028\n",
      "Epoch 41/100\n",
      "38/38 [==============================] - 3s 85ms/step - loss: 0.0033\n",
      "Epoch 42/100\n",
      "38/38 [==============================] - 3s 84ms/step - loss: 0.0024\n",
      "Epoch 43/100\n",
      "38/38 [==============================] - 3s 84ms/step - loss: 0.0024\n",
      "Epoch 44/100\n",
      "38/38 [==============================] - 3s 85ms/step - loss: 0.0024\n",
      "Epoch 45/100\n",
      "38/38 [==============================] - 3s 88ms/step - loss: 0.0026\n",
      "Epoch 46/100\n",
      "38/38 [==============================] - 3s 84ms/step - loss: 0.0026\n",
      "Epoch 47/100\n",
      "38/38 [==============================] - 3s 85ms/step - loss: 0.0023\n",
      "Epoch 48/100\n",
      "38/38 [==============================] - 3s 84ms/step - loss: 0.0025\n",
      "Epoch 49/100\n",
      "38/38 [==============================] - 3s 85ms/step - loss: 0.0023\n",
      "Epoch 50/100\n",
      "38/38 [==============================] - 3s 84ms/step - loss: 0.0025\n",
      "Epoch 51/100\n",
      "38/38 [==============================] - 3s 87ms/step - loss: 0.0024\n",
      "Epoch 52/100\n",
      "38/38 [==============================] - 3s 84ms/step - loss: 0.0023\n",
      "Epoch 53/100\n",
      "38/38 [==============================] - 3s 85ms/step - loss: 0.0023\n",
      "Epoch 54/100\n",
      "38/38 [==============================] - 3s 84ms/step - loss: 0.0025\n",
      "Epoch 55/100\n",
      "38/38 [==============================] - 3s 84ms/step - loss: 0.0024\n",
      "Epoch 56/100\n",
      "38/38 [==============================] - 3s 86ms/step - loss: 0.0021\n",
      "Epoch 57/100\n",
      "38/38 [==============================] - 3s 84ms/step - loss: 0.0020\n",
      "Epoch 58/100\n",
      "38/38 [==============================] - 3s 84ms/step - loss: 0.0022\n",
      "Epoch 59/100\n",
      "38/38 [==============================] - 3s 84ms/step - loss: 0.0025\n",
      "Epoch 60/100\n",
      "38/38 [==============================] - 3s 84ms/step - loss: 0.0024\n",
      "Epoch 61/100\n",
      "38/38 [==============================] - 3s 84ms/step - loss: 0.0018\n",
      "Epoch 62/100\n",
      "38/38 [==============================] - 3s 88ms/step - loss: 0.0020\n",
      "Epoch 63/100\n",
      "38/38 [==============================] - 3s 91ms/step - loss: 0.0019\n",
      "Epoch 64/100\n",
      "38/38 [==============================] - 3s 85ms/step - loss: 0.0019\n",
      "Epoch 65/100\n",
      "38/38 [==============================] - 3s 84ms/step - loss: 0.0021\n",
      "Epoch 66/100\n",
      "38/38 [==============================] - 3s 85ms/step - loss: 0.0021\n",
      "Epoch 67/100\n",
      "38/38 [==============================] - 4s 93ms/step - loss: 0.0021\n",
      "Epoch 68/100\n",
      "38/38 [==============================] - 3s 86ms/step - loss: 0.0019\n",
      "Epoch 69/100\n",
      "38/38 [==============================] - 3s 85ms/step - loss: 0.0019\n",
      "Epoch 70/100\n",
      "38/38 [==============================] - 3s 84ms/step - loss: 0.0018\n",
      "Epoch 71/100\n",
      "38/38 [==============================] - 3s 86ms/step - loss: 0.0020\n",
      "Epoch 72/100\n",
      "38/38 [==============================] - 3s 87ms/step - loss: 0.0018\n",
      "Epoch 73/100\n",
      "38/38 [==============================] - 3s 86ms/step - loss: 0.0019\n",
      "Epoch 74/100\n",
      "38/38 [==============================] - 3s 86ms/step - loss: 0.0017\n",
      "Epoch 75/100\n",
      "38/38 [==============================] - 3s 85ms/step - loss: 0.0018\n",
      "Epoch 76/100\n",
      "38/38 [==============================] - 3s 84ms/step - loss: 0.0018\n",
      "Epoch 77/100\n",
      "38/38 [==============================] - 3s 85ms/step - loss: 0.0017\n",
      "Epoch 78/100\n",
      "38/38 [==============================] - 3s 85ms/step - loss: 0.0017\n",
      "Epoch 79/100\n",
      "38/38 [==============================] - 3s 88ms/step - loss: 0.0016\n",
      "Epoch 80/100\n",
      "38/38 [==============================] - 3s 85ms/step - loss: 0.0020\n",
      "Epoch 81/100\n",
      "38/38 [==============================] - 3s 85ms/step - loss: 0.0016\n",
      "Epoch 82/100\n",
      "38/38 [==============================] - 3s 85ms/step - loss: 0.0017\n",
      "Epoch 83/100\n",
      "38/38 [==============================] - 3s 87ms/step - loss: 0.0017\n",
      "Epoch 84/100\n",
      "38/38 [==============================] - 3s 85ms/step - loss: 0.0019\n",
      "Epoch 85/100\n",
      "38/38 [==============================] - 4s 97ms/step - loss: 0.0015: 1\n",
      "Epoch 86/100\n",
      "38/38 [==============================] - 4s 93ms/step - loss: 0.0015\n",
      "Epoch 87/100\n",
      "38/38 [==============================] - 3s 84ms/step - loss: 0.0016\n",
      "Epoch 88/100\n",
      "38/38 [==============================] - 3s 85ms/step - loss: 0.0014\n",
      "Epoch 89/100\n",
      "38/38 [==============================] - 3s 85ms/step - loss: 0.0016\n",
      "Epoch 90/100\n",
      "38/38 [==============================] - 3s 84ms/step - loss: 0.0016\n",
      "Epoch 91/100\n",
      "38/38 [==============================] - 3s 85ms/step - loss: 0.0015\n",
      "Epoch 92/100\n",
      "38/38 [==============================] - 3s 84ms/step - loss: 0.0014\n",
      "Epoch 93/100\n",
      "38/38 [==============================] - 3s 85ms/step - loss: 0.0016\n",
      "Epoch 94/100\n",
      "38/38 [==============================] - 3s 88ms/step - loss: 0.0014\n",
      "Epoch 95/100\n",
      "38/38 [==============================] - 3s 84ms/step - loss: 0.0015\n",
      "Epoch 96/100\n",
      "38/38 [==============================] - 3s 84ms/step - loss: 0.0017\n",
      "Epoch 97/100\n",
      "38/38 [==============================] - 3s 85ms/step - loss: 0.0015\n",
      "Epoch 98/100\n",
      "38/38 [==============================] - 3s 85ms/step - loss: 0.0015\n",
      "Epoch 99/100\n",
      "38/38 [==============================] - 3s 86ms/step - loss: 0.0015\n",
      "Epoch 100/100\n",
      "38/38 [==============================] - 3s 85ms/step - loss: 0.0015\n"
     ]
    },
    {
     "data": {
      "text/plain": [
       "<keras.callbacks.History at 0x199e1c84fd0>"
      ]
     },
     "execution_count": 131,
     "metadata": {},
     "output_type": "execute_result"
    }
   ],
   "source": [
    "RNN.fit(X_train,y_train,epochs = 100, batch_size=32)"
   ]
  },
  {
   "cell_type": "code",
   "execution_count": 132,
   "metadata": {},
   "outputs": [],
   "source": [
    "# loading the test data\n",
    "df_2 = pd.read_csv('Google_Stock_Price_Test.csv')\n",
    "test_set = df_2.iloc[:,1:2].values\n",
    "dataset_total = pd.concat((df['Open'],df_2['Open']),axis=0)"
   ]
  },
  {
   "cell_type": "code",
   "execution_count": 133,
   "metadata": {},
   "outputs": [],
   "source": [
    "inputs = dataset_total[len(dataset_total)-len(df_2)-60:].values\n",
    "inputs = inputs.reshape(-1,1)\n",
    "inputs = sc.transform(inputs)\n",
    "X_test =[]\n",
    "for i in range(60,80):\n",
    "    X_test.append(inputs[i-60:i,0])\n",
    "X_test = np.array(X_test)\n",
    "X_test = np.reshape(X_test,(X_test.shape[0],X_test.shape[1],1))\n",
    "predicted_stock_price = RNN.predict(X_test)\n",
    "predicted_stock_price = sc.inverse_transform(predicted_stock_price)"
   ]
  },
  {
   "cell_type": "markdown",
   "metadata": {},
   "source": [
    "### Visualizing the predicted and real stock price"
   ]
  },
  {
   "cell_type": "code",
   "execution_count": 134,
   "metadata": {},
   "outputs": [
    {
     "data": {
      "image/png": "[encoded data removed]",
      "text/plain": [
       "<Figure size 432x288 with 1 Axes>"
      ]
     },
     "metadata": {
      "needs_background": "light"
     },
     "output_type": "display_data"
    }
   ],
   "source": [
    "plt.plot(test_set,color = 'red',label = 'real stock price')\n",
    "plt.plot(predicted_stock_price,color = 'blue',label = 'predicted stock price')\n",
    "plt.title('Stock Price Prediction using RNN')\n",
    "plt.xlabel('time')\n",
    "plt.ylabel('Stock price')\n",
    "plt.legend()\n",
    "plt.show()"
   ]
  }
 ],
 "metadata": {
  "interpreter": {
   "hash": "acd80a346a21103701aea104b3122a4c1b4265913b6808a7645293b85518db46"
  },
  "kernelspec": {
   "display_name": "Python 3.9.7 64-bit ('base': conda)",
   "language": "python",
   "name": "python3"
  },
  "language_info": {
   "codemirror_mode": {
    "name": "ipython",
    "version": 3
   },
   "file_extension": ".py",
   "mimetype": "text/x-python",
   "name": "python",
   "nbconvert_exporter": "python",
   "pygments_lexer": "ipython3",
   "version": "3.9.7"
  },
  "orig_nbformat": 4
 },
 "nbformat": 4,
 "nbformat_minor": 2
}
